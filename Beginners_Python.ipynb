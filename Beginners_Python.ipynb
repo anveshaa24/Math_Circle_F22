{
 "cells": [
  {
   "cell_type": "markdown",
   "id": "71be4841-7eee-48f1-b44e-c4ed2350ef00",
   "metadata": {},
   "source": [
    "### Python for Beginners \n",
    "#### Math Circle Intermediate 1B \n",
    "#### October 9, 2022"
   ]
  },
  {
   "cell_type": "markdown",
   "id": "7c708bd0-3684-4ee2-a316-036a5e549354",
   "metadata": {},
   "source": [
    "What is Python? Python is a popular programming language created by Guido van Rossum, and released in 1991.\n",
    "##### Contents in this notebook:\n",
    "1. Data Types \n",
    "2. Variables\n",
    "3. Functions\n",
    "4. Loops\n"
   ]
  },
  {
   "cell_type": "markdown",
   "id": "0f84a073-2216-4b61-bfb8-3e3cff7a4593",
   "metadata": {},
   "source": [
    "The first classic function!"
   ]
  },
  {
   "cell_type": "code",
   "execution_count": 2,
   "id": "0832b56f-8b8d-4c76-85d7-504823cf4ffa",
   "metadata": {},
   "outputs": [
    {
     "name": "stdout",
     "output_type": "stream",
     "text": [
      "hello, world! we are the Math Circle\n"
     ]
    }
   ],
   "source": [
    "print('hello, world! we are the Math Circle')"
   ]
  },
  {
   "cell_type": "markdown",
   "id": "5dfc72aa-6b6a-4be2-893b-f8bb763f3479",
   "metadata": {},
   "source": [
    "#### Variables and their types"
   ]
  },
  {
   "cell_type": "markdown",
   "id": "597bbfb3-6d31-4624-b453-e3e29b125bdd",
   "metadata": {},
   "source": [
    "What is a variable?\\\n",
    "Variables are containers that hold a value, such as a piece of text or a number. You might remember these from math class. Variables are powerful because they can be reused and changed easily."
   ]
  },
  {
   "cell_type": "code",
   "execution_count": 5,
   "id": "3dc5b5d9-e481-4486-aa0f-6b7b8867987e",
   "metadata": {},
   "outputs": [
    {
     "data": {
      "text/plain": [
       "10"
      ]
     },
     "execution_count": 5,
     "metadata": {},
     "output_type": "execute_result"
    }
   ],
   "source": [
    "x = 10\n",
    "x"
   ]
  },
  {
   "cell_type": "code",
   "execution_count": 7,
   "id": "25d8b3fb-9841-4943-8d4e-29422a186245",
   "metadata": {},
   "outputs": [
    {
     "data": {
      "text/plain": [
       "'sunday'"
      ]
     },
     "execution_count": 7,
     "metadata": {},
     "output_type": "execute_result"
    }
   ],
   "source": [
    "y = 'sunday'\n",
    "y"
   ]
  },
  {
   "cell_type": "code",
   "execution_count": 8,
   "id": "e30b358a-be5f-475b-befa-42298998b45c",
   "metadata": {},
   "outputs": [
    {
     "data": {
      "text/plain": [
       "5.5"
      ]
     },
     "execution_count": 8,
     "metadata": {},
     "output_type": "execute_result"
    }
   ],
   "source": [
    "x = 5.5\n",
    "x"
   ]
  },
  {
   "cell_type": "markdown",
   "id": "253d1d6d-6247-4686-b42d-e5cce744e238",
   "metadata": {},
   "source": [
    "#### The following are some common variable types:\n",
    "Integer: 20\\\n",
    "Float: 20.5\\\n",
    "String: “MathCircle”\\\n",
    "List: ['apple', 'banana', 'orange']\\\n",
    "Tuple: ('apple', 'banana', 'orange')\\\n",
    "Dictionary: {'name':'John', 'age':10}\\\n",
    "Set: {'apple','banana','orange'}\\\n",
    "Boolean: True, False\n"
   ]
  },
  {
   "cell_type": "code",
   "execution_count": 24,
   "id": "ea7c31f8-b422-4dbc-999a-2988f307a7a7",
   "metadata": {},
   "outputs": [
    {
     "name": "stdout",
     "output_type": "stream",
     "text": [
      "<class 'str'>\n",
      "<class 'int'>\n"
     ]
    }
   ],
   "source": [
    "x = 'math is fun' #you can use either single or double quotes\n",
    "print(type(x))\n",
    "y = 55\n",
    "print(type(y))"
   ]
  },
  {
   "cell_type": "markdown",
   "id": "a780dfe5-29fe-4179-885a-bf589809d96d",
   "metadata": {},
   "source": [
    "You can also specify what variable type you would like:"
   ]
  },
  {
   "cell_type": "code",
   "execution_count": 25,
   "id": "ff1bf58a-2640-4aee-9a24-4e23a921e6af",
   "metadata": {},
   "outputs": [
    {
     "name": "stdout",
     "output_type": "stream",
     "text": [
      "3 3 3.0\n"
     ]
    },
    {
     "data": {
      "text/plain": [
       "str"
      ]
     },
     "execution_count": 25,
     "metadata": {},
     "output_type": "execute_result"
    }
   ],
   "source": [
    "x = str(3)    # x will be '3'\n",
    "y = int(3)    # y will be 3\n",
    "z = float(3)  # z will be 3.0\n",
    "print(x,y,z)\n",
    "type(x)"
   ]
  },
  {
   "cell_type": "markdown",
   "id": "d2d9f7bb-c23c-4805-bc24-d6942d9ef08a",
   "metadata": {},
   "source": [
    "How do we name our variables?\n",
    "\n",
    "Variable names cannot:\n",
    "\n",
    "1. start with a number\n",
    "2. contain spaces.\n",
    "3. contain special characters except “_” (underscore)\n",
    "4. have same name as another variable"
   ]
  },
  {
   "cell_type": "markdown",
   "id": "53e58563-f6e9-4393-a8ca-abd3876eb7d7",
   "metadata": {},
   "source": [
    "We can comment in Python just like you write on a word document or on your notes app!"
   ]
  },
  {
   "cell_type": "code",
   "execution_count": 11,
   "id": "3400b58f-2b3e-4a0d-8760-4fcba2caeb14",
   "metadata": {},
   "outputs": [],
   "source": [
    "#This is a comment"
   ]
  },
  {
   "cell_type": "markdown",
   "id": "dca3e4a5-4ae7-4b03-8701-a7e7f9d7a6d0",
   "metadata": {},
   "source": [
    "How do we deal with strings, which are words or text?"
   ]
  },
  {
   "cell_type": "markdown",
   "id": "95e20ced-ec7c-404f-ac1a-5192c6559252",
   "metadata": {},
   "source": [
    "Items in python are indexed and the first index is 0 instead of 1"
   ]
  },
  {
   "cell_type": "code",
   "execution_count": 65,
   "id": "e75fb34c-d511-4c47-8443-599d79b01587",
   "metadata": {},
   "outputs": [
    {
     "data": {
      "text/plain": [
       "'h'"
      ]
     },
     "execution_count": 65,
     "metadata": {},
     "output_type": "execute_result"
    }
   ],
   "source": [
    "x = 'harry styles is a great singer!' \n",
    "x[0] "
   ]
  },
  {
   "cell_type": "code",
   "execution_count": 43,
   "id": "6cef1b50-1019-46ab-a0c5-e72aead6645b",
   "metadata": {},
   "outputs": [
    {
     "data": {
      "text/plain": [
       "'harry styles'"
      ]
     },
     "execution_count": 43,
     "metadata": {},
     "output_type": "execute_result"
    }
   ],
   "source": [
    "x[0:12] # the first 12 letters of the string x"
   ]
  },
  {
   "cell_type": "code",
   "execution_count": 34,
   "id": "81f56637-9c32-49bf-9a39-d96ad79f2cbc",
   "metadata": {},
   "outputs": [
    {
     "data": {
      "text/plain": [
       "5"
      ]
     },
     "execution_count": 34,
     "metadata": {},
     "output_type": "execute_result"
    }
   ],
   "source": [
    "y = 'apple'\n",
    "len(y) #to find the length of the string "
   ]
  },
  {
   "cell_type": "code",
   "execution_count": 38,
   "id": "948c59a8-dad3-44ab-b9df-6efa23e9a15e",
   "metadata": {},
   "outputs": [
    {
     "data": {
      "text/plain": [
       "'UCLA'"
      ]
     },
     "execution_count": 38,
     "metadata": {},
     "output_type": "execute_result"
    }
   ],
   "source": [
    "a, b = 'UC', 'LA'\n",
    "a+b #we can concatenate or join strings together "
   ]
  },
  {
   "cell_type": "markdown",
   "id": "341a3bbd-3c36-453f-baaf-ae168eee4560",
   "metadata": {},
   "source": [
    "#### Comparison Operators"
   ]
  },
  {
   "cell_type": "code",
   "execution_count": 44,
   "id": "9867cc94-43d5-4493-bcc0-bf86d615ad45",
   "metadata": {},
   "outputs": [
    {
     "name": "stdout",
     "output_type": "stream",
     "text": [
      "False\n"
     ]
    }
   ],
   "source": [
    "print(1>2)"
   ]
  },
  {
   "cell_type": "code",
   "execution_count": 49,
   "id": "d839c5b9-89e5-4a00-8e44-5907ff2a5081",
   "metadata": {},
   "outputs": [
    {
     "name": "stdout",
     "output_type": "stream",
     "text": [
      "True\n"
     ]
    }
   ],
   "source": [
    "print(56<56.1)"
   ]
  },
  {
   "cell_type": "markdown",
   "id": "a3cee191-f03f-48d3-b48c-0e9871d0c6bc",
   "metadata": {},
   "source": [
    "The comparison operators are:\n",
    "1. \\> Greater than\n",
    "2. < Less than\n",
    "3. == Equal to check if two values are equal (not the = sign)\n",
    "4. != NOT equal to\n",
    "5. \\>= Greater than or equal to\n",
    "6. <= Less than or equal to\n"
   ]
  },
  {
   "cell_type": "code",
   "execution_count": 50,
   "id": "55b03376-37aa-4385-9b88-63474726b448",
   "metadata": {},
   "outputs": [
    {
     "data": {
      "text/plain": [
       "True"
      ]
     },
     "execution_count": 50,
     "metadata": {},
     "output_type": "execute_result"
    }
   ],
   "source": [
    "5 == 5.0"
   ]
  },
  {
   "cell_type": "code",
   "execution_count": 52,
   "id": "716249fa-acf4-4106-b033-c465f1f749a2",
   "metadata": {},
   "outputs": [
    {
     "data": {
      "text/plain": [
       "False"
      ]
     },
     "execution_count": 52,
     "metadata": {},
     "output_type": "execute_result"
    }
   ],
   "source": [
    "'apple' == 'Apple' #strings are case sensitive"
   ]
  },
  {
   "cell_type": "markdown",
   "id": "09cce10d-7aaf-46d7-960a-d3af7d8992e6",
   "metadata": {},
   "source": [
    "#### Arithmetic operators"
   ]
  },
  {
   "cell_type": "markdown",
   "id": "50a0af25-c86e-43c7-a2d7-f67e9b77ec39",
   "metadata": {},
   "source": [
    "\\+  Addition       \n",
    "\\-  Subtraction    \n",
    "\\*  Multiplication\\\n",
    "/  Division       \n",
    "%  Modulus (gives the remainder after division)      \n",
    "** Exponentiation  \n",
    "// Floor division (rounds off the quotient to the nearest smaller integer)"
   ]
  },
  {
   "cell_type": "code",
   "execution_count": 58,
   "id": "a228fc1e-f80c-4b6e-99f0-d3090793e054",
   "metadata": {},
   "outputs": [
    {
     "data": {
      "text/plain": [
       "66"
      ]
     },
     "execution_count": 58,
     "metadata": {},
     "output_type": "execute_result"
    }
   ],
   "source": [
    "x = 10+56\n",
    "x"
   ]
  },
  {
   "cell_type": "code",
   "execution_count": 61,
   "id": "d13c0ba0-97b0-409d-9d90-a633879b483c",
   "metadata": {},
   "outputs": [
    {
     "data": {
      "text/plain": [
       "5.142857142857143"
      ]
     },
     "execution_count": 61,
     "metadata": {},
     "output_type": "execute_result"
    }
   ],
   "source": [
    "36/7"
   ]
  },
  {
   "cell_type": "code",
   "execution_count": 64,
   "id": "30a964d8-cb71-4c97-b052-2fad65ed77d7",
   "metadata": {},
   "outputs": [
    {
     "data": {
      "text/plain": [
       "1"
      ]
     },
     "execution_count": 64,
     "metadata": {},
     "output_type": "execute_result"
    }
   ],
   "source": [
    "36%7"
   ]
  },
  {
   "cell_type": "code",
   "execution_count": 62,
   "id": "20906a0d-cca9-4722-b82b-4da761b9e957",
   "metadata": {},
   "outputs": [
    {
     "data": {
      "text/plain": [
       "5"
      ]
     },
     "execution_count": 62,
     "metadata": {},
     "output_type": "execute_result"
    }
   ],
   "source": [
    "36//7"
   ]
  },
  {
   "cell_type": "code",
   "execution_count": 63,
   "id": "3b5cc606-d2b9-4b9d-ba7d-158b49819241",
   "metadata": {},
   "outputs": [
    {
     "data": {
      "text/plain": [
       "400"
      ]
     },
     "execution_count": 63,
     "metadata": {},
     "output_type": "execute_result"
    }
   ],
   "source": [
    "20**2"
   ]
  },
  {
   "cell_type": "markdown",
   "id": "8c6acb60-90e0-4755-9718-15068849dd91",
   "metadata": {},
   "source": [
    "#### Control Flow"
   ]
  },
  {
   "cell_type": "code",
   "execution_count": null,
   "id": "96f1ba55-91e1-4237-8ec3-e0c23bd50ff3",
   "metadata": {},
   "outputs": [],
   "source": []
  },
  {
   "cell_type": "code",
   "execution_count": null,
   "id": "45752f09-03c3-4479-ae3d-4d3dc81f44d6",
   "metadata": {},
   "outputs": [],
   "source": []
  },
  {
   "cell_type": "code",
   "execution_count": null,
   "id": "443174a4-9c10-4c18-abd0-274c34bdef6f",
   "metadata": {},
   "outputs": [],
   "source": []
  },
  {
   "cell_type": "code",
   "execution_count": null,
   "id": "cd129bf2-5ff5-4b4e-b7e1-c3fc894d1b2b",
   "metadata": {},
   "outputs": [],
   "source": []
  },
  {
   "cell_type": "code",
   "execution_count": null,
   "id": "228b5f12-df7d-4afd-ab59-02c05e85da41",
   "metadata": {},
   "outputs": [],
   "source": []
  },
  {
   "cell_type": "code",
   "execution_count": null,
   "id": "19b82b99-87db-4a37-a9cd-bb0afc548e65",
   "metadata": {},
   "outputs": [],
   "source": []
  }
 ],
 "metadata": {
  "kernelspec": {
   "display_name": "Python 3 (ipykernel)",
   "language": "python",
   "name": "python3"
  },
  "language_info": {
   "codemirror_mode": {
    "name": "ipython",
    "version": 3
   },
   "file_extension": ".py",
   "mimetype": "text/x-python",
   "name": "python",
   "nbconvert_exporter": "python",
   "pygments_lexer": "ipython3",
   "version": "3.9.7"
  }
 },
 "nbformat": 4,
 "nbformat_minor": 5
}
