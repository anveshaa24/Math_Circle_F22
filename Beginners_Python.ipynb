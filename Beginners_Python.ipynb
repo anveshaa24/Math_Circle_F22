{
  "cells": [
    {
      "cell_type": "markdown",
      "id": "71be4841-7eee-48f1-b44e-c4ed2350ef00",
      "metadata": {
        "id": "71be4841-7eee-48f1-b44e-c4ed2350ef00"
      },
      "source": [
        "### Python for Beginners \n",
        "#### Math Circle Intermediate 1B \n",
        "#### October 9, 2022"
      ]
    },
    {
      "cell_type": "markdown",
      "id": "7c708bd0-3684-4ee2-a316-036a5e549354",
      "metadata": {
        "id": "7c708bd0-3684-4ee2-a316-036a5e549354"
      },
      "source": [
        "### What is Python?\n",
        "Python is a popular programming language created by Guido van Rossum, and released in 1991. It is a powerful general purpose programming language, and is used for a variety of tasks, such as web development, scientific computing, scripting, and much more.\n",
        "\n",
        "One reason for Python's popularity today is its rich ecosystem. Different libraries (software packages written by other people) give Python programmers a lot of freedom to create.\n",
        "\n",
        "Another reason is that Python's syntax (grammar rules for writing code) is relatively simple. A lot of Python code reads like plain English, which is helpful for beginners!"
      ]
    },
    {
      "cell_type": "markdown",
      "id": "0f84a073-2216-4b61-bfb8-3e3cff7a4593",
      "metadata": {
        "id": "0f84a073-2216-4b61-bfb8-3e3cff7a4593"
      },
      "source": [
        "Run the below line of code and see the output!"
      ]
    },
    {
      "cell_type": "code",
      "execution_count": null,
      "id": "0832b56f-8b8d-4c76-85d7-504823cf4ffa",
      "metadata": {
        "id": "0832b56f-8b8d-4c76-85d7-504823cf4ffa"
      },
      "outputs": [],
      "source": [
        "print('Hello, World! We are the ORMC!')"
      ]
    },
    {
      "cell_type": "markdown",
      "source": [
        "Try outputting your own text by placing it within the quotation marks below:"
      ],
      "metadata": {
        "id": "j8I_CKb-5p3_"
      },
      "id": "j8I_CKb-5p3_"
    },
    {
      "cell_type": "code",
      "source": [
        "print('')"
      ],
      "metadata": {
        "id": "HrLrX1215o5J"
      },
      "id": "HrLrX1215o5J",
      "execution_count": null,
      "outputs": []
    },
    {
      "cell_type": "markdown",
      "source": [
        "Now let's try using Python to perform some arithmetic. Below are some examples of some basic operations. Try running the code and check the output. (The text you see after the '#' sign is called a comment, and doesn't have any effect on the code)"
      ],
      "metadata": {
        "id": "EUxoeqBL8Hmr"
      },
      "id": "EUxoeqBL8Hmr"
    },
    {
      "cell_type": "code",
      "source": [
        "# Addition\n",
        "12 + 34"
      ],
      "metadata": {
        "id": "_gAEtQFg9Btl"
      },
      "id": "_gAEtQFg9Btl",
      "execution_count": null,
      "outputs": []
    },
    {
      "cell_type": "code",
      "source": [
        "# Subtraction\n",
        "6 - 23"
      ],
      "metadata": {
        "id": "Y32QY1s09cBk"
      },
      "id": "Y32QY1s09cBk",
      "execution_count": null,
      "outputs": []
    },
    {
      "cell_type": "code",
      "source": [
        "# Multiplication\n",
        "60 * 6"
      ],
      "metadata": {
        "id": "tYHzl-v89kbA"
      },
      "id": "tYHzl-v89kbA",
      "execution_count": null,
      "outputs": []
    },
    {
      "cell_type": "code",
      "source": [
        "# Division\n",
        "22 / 7"
      ],
      "metadata": {
        "id": "VV3_Y8OH9zmA"
      },
      "id": "VV3_Y8OH9zmA",
      "execution_count": null,
      "outputs": []
    },
    {
      "cell_type": "code",
      "source": [
        "# Quotient\n",
        "22 // 7"
      ],
      "metadata": {
        "id": "E60kK_0BP4-q"
      },
      "id": "E60kK_0BP4-q",
      "execution_count": null,
      "outputs": []
    },
    {
      "cell_type": "code",
      "source": [
        "# Remainder\n",
        "22 % 7"
      ],
      "metadata": {
        "id": "mUcxsbFqQCAg"
      },
      "id": "mUcxsbFqQCAg",
      "execution_count": null,
      "outputs": []
    },
    {
      "cell_type": "code",
      "source": [
        "# Exponentiation\n",
        "5 ** 2"
      ],
      "metadata": {
        "id": "V4-hNhZaQHs0"
      },
      "id": "V4-hNhZaQHs0",
      "execution_count": null,
      "outputs": []
    },
    {
      "cell_type": "markdown",
      "source": [
        "We can also chain together these operations to find the answers to complicated arithmetic expressions! Whenever we have multiple operations in an expression, Python uses the order of operations (BODMAS/PEMDAS) to determine which ones to calculate first. For example, try to predict what the below line of code will output, and then run it to see if you got it right:"
      ],
      "metadata": {
        "id": "s_88_-r8_VwB"
      },
      "id": "s_88_-r8_VwB"
    },
    {
      "cell_type": "code",
      "source": [
        "1 - (5 + 30) * 20 / 10"
      ],
      "metadata": {
        "id": "VzsiibC3APL6"
      },
      "id": "VzsiibC3APL6",
      "execution_count": null,
      "outputs": []
    },
    {
      "cell_type": "markdown",
      "source": [
        "But wait! Why does the output number have a decimal point when it is an integer? To see why, we must briefly discuss variables and types."
      ],
      "metadata": {
        "id": "rEwjNUHyA4-s"
      },
      "id": "rEwjNUHyA4-s"
    },
    {
      "cell_type": "markdown",
      "id": "5dfc72aa-6b6a-4be2-893b-f8bb763f3479",
      "metadata": {
        "id": "5dfc72aa-6b6a-4be2-893b-f8bb763f3479"
      },
      "source": [
        "### Variables and Types\n",
        "What is a variable?\n",
        "\n",
        "In programming, a variable is a container used to hold information, such as a piece of text or a number. You might remember these from math class. Variables are powerful because they can be reused and changed easily."
      ]
    },
    {
      "cell_type": "code",
      "execution_count": 1,
      "id": "3dc5b5d9-e481-4486-aa0f-6b7b8867987e",
      "metadata": {
        "id": "3dc5b5d9-e481-4486-aa0f-6b7b8867987e"
      },
      "outputs": [],
      "source": [
        "x = 10\n",
        "y = 'Sunday'\n",
        "z = 3.14"
      ]
    },
    {
      "cell_type": "markdown",
      "source": [
        "To check the value of a variable, we can simply pass it into the print command. Run the below lines of code to output the values of the variables we created above:"
      ],
      "metadata": {
        "id": "tUoTGoKvB-0w"
      },
      "id": "tUoTGoKvB-0w"
    },
    {
      "cell_type": "code",
      "source": [
        "print(x)\n",
        "print(y)\n",
        "print(z)"
      ],
      "metadata": {
        "id": "IwEC8mbRCq44"
      },
      "id": "IwEC8mbRCq44",
      "execution_count": null,
      "outputs": []
    },
    {
      "cell_type": "markdown",
      "source": [
        "Try assigning your name to a variable called 'name' and print it out:"
      ],
      "metadata": {
        "id": "JaAw6eCgDNDI"
      },
      "id": "JaAw6eCgDNDI"
    },
    {
      "cell_type": "code",
      "source": [
        "# write your code below\n"
      ],
      "metadata": {
        "id": "BGQumxhNDj4H"
      },
      "id": "BGQumxhNDj4H",
      "execution_count": null,
      "outputs": []
    },
    {
      "cell_type": "markdown",
      "source": [
        "Each variable also has an associated type. Numbers can either be of type 'int' (integers) or 'float' (decimal numbers). Text is of type 'str' (short for string). We can check the type of a variable by passing it into the type command:"
      ],
      "metadata": {
        "id": "uWgpzp4OEzk4"
      },
      "id": "uWgpzp4OEzk4"
    },
    {
      "cell_type": "code",
      "source": [
        "print(type(x))\n",
        "print(type(y))\n",
        "print(type(z))"
      ],
      "metadata": {
        "id": "WQQM-sHJFTVU"
      },
      "id": "WQQM-sHJFTVU",
      "execution_count": null,
      "outputs": []
    },
    {
      "cell_type": "markdown",
      "source": [
        "We will learn about more data types as we progress in the class."
      ],
      "metadata": {
        "id": "luMOS8bZJQaZ"
      },
      "id": "luMOS8bZJQaZ"
    },
    {
      "cell_type": "markdown",
      "source": [
        "We can use variables directly within expressions, as long as they are of similar type:"
      ],
      "metadata": {
        "id": "NapLMMkdKdI_"
      },
      "id": "NapLMMkdKdI_"
    },
    {
      "cell_type": "code",
      "source": [
        "print(3 * x + 5)\n",
        "print(2 * z * 4)\n",
        "print('Today is ' + y)"
      ],
      "metadata": {
        "id": "kTkXpKWbKqzO"
      },
      "id": "kTkXpKWbKqzO",
      "execution_count": null,
      "outputs": []
    },
    {
      "cell_type": "markdown",
      "source": [
        "When we assign values to our variables, we can also incorporate these expressions. For example:"
      ],
      "metadata": {
        "id": "MGKGZgw5LNkQ"
      },
      "id": "MGKGZgw5LNkQ"
    },
    {
      "cell_type": "code",
      "source": [
        "radius = 7\n",
        "circumference = 2 * z * radius\n",
        "area = z * radius ** 2 / 2\n",
        "print(radius)\n",
        "print(circumference)\n",
        "print(area)"
      ],
      "metadata": {
        "id": "jI_j-4QFLSg4"
      },
      "id": "jI_j-4QFLSg4",
      "execution_count": null,
      "outputs": []
    },
    {
      "cell_type": "markdown",
      "source": [
        "As a general rule, when we have ints and floats in the same expression, the result will be a float. Also, the division operator ('/') will always output a float, even if the number itself is an integer."
      ],
      "metadata": {
        "id": "v-tb2wQoM4eY"
      },
      "id": "v-tb2wQoM4eY"
    },
    {
      "cell_type": "markdown",
      "source": [
        "Try out some calculations yourself using variables and print out the value and type of each resulting variable."
      ],
      "metadata": {
        "id": "osFAAo4OOeYR"
      },
      "id": "osFAAo4OOeYR"
    },
    {
      "cell_type": "code",
      "source": [
        "# write your code below\n"
      ],
      "metadata": {
        "id": "-PlGxLatOsNM"
      },
      "id": "-PlGxLatOsNM",
      "execution_count": null,
      "outputs": []
    },
    {
      "cell_type": "code",
      "source": [
        "# write your code below\n"
      ],
      "metadata": {
        "id": "R95ddhYWxzoX"
      },
      "id": "R95ddhYWxzoX",
      "execution_count": null,
      "outputs": []
    },
    {
      "cell_type": "markdown",
      "source": [
        "Variables can also be reused. For example:"
      ],
      "metadata": {
        "id": "fajxPiQuNmSL"
      },
      "id": "fajxPiQuNmSL"
    },
    {
      "cell_type": "code",
      "source": [
        "color = 'orange'\n",
        "print('My favorite color is ' + color)\n",
        "color = 'blue'\n",
        "print('I changed my mind, my new favorite color is ' + color)"
      ],
      "metadata": {
        "id": "rO8FcvY1N3zG"
      },
      "id": "rO8FcvY1N3zG",
      "execution_count": null,
      "outputs": []
    },
    {
      "cell_type": "markdown",
      "id": "d2d9f7bb-c23c-4805-bc24-d6942d9ef08a",
      "metadata": {
        "id": "d2d9f7bb-c23c-4805-bc24-d6942d9ef08a"
      },
      "source": [
        "How do we name our variables?\n",
        "\n",
        "Variable names cannot:\n",
        "\n",
        "1. start with a number\n",
        "2. contain spaces.\n",
        "3. contain special characters except “_” (underscore)\n",
        "4. have the same name as another variable (this would count as reusing the previous variable)"
      ]
    },
    {
      "cell_type": "markdown",
      "id": "dca3e4a5-4ae7-4b03-8701-a7e7f9d7a6d0",
      "metadata": {
        "id": "dca3e4a5-4ae7-4b03-8701-a7e7f9d7a6d0"
      },
      "source": [
        "### Strings\n",
        "Now let's dive a little deeper into strings!\n",
        "\n",
        "Strings can be declared with either single quotes ( ' ) or double quotes ( \" ) on each end of the string. For example, the following two variables are both valid strings:"
      ]
    },
    {
      "cell_type": "code",
      "source": [
        "question = 'When does yesterday come after today?'\n",
        "answer = \"In a dictionary!\"\n",
        "print(question)\n",
        "print(answer)"
      ],
      "metadata": {
        "id": "iztBYqwLSkaz"
      },
      "id": "iztBYqwLSkaz",
      "execution_count": null,
      "outputs": []
    },
    {
      "cell_type": "markdown",
      "source": [
        "We can even have multi-line strings! You can do this by inserting a newline character ( \\n ) where you want to start a new line:"
      ],
      "metadata": {
        "id": "wkVoAw-Ci2Oj"
      },
      "id": "wkVoAw-Ci2Oj"
    },
    {
      "cell_type": "code",
      "source": [
        "riddle = 'When does yesterday come after today?\\nIn a dictionary!'\n",
        "print(riddle)"
      ],
      "metadata": {
        "id": "TvzpuJl0jW_z"
      },
      "id": "TvzpuJl0jW_z",
      "execution_count": null,
      "outputs": []
    },
    {
      "cell_type": "markdown",
      "source": [
        "The reason we use the \"\\\\\" character for newlines (and other types of 'special' characters) is because we need some way of telling the computer we want something that isn't literally typed on the screen."
      ],
      "metadata": {
        "id": "7d8wsNIex8tK"
      },
      "id": "7d8wsNIex8tK"
    },
    {
      "cell_type": "markdown",
      "source": [
        "But what happens when the ends of a string have different types of quotes? Let's find out:"
      ],
      "metadata": {
        "id": "BTN8Ah0DS-tw"
      },
      "id": "BTN8Ah0DS-tw"
    },
    {
      "cell_type": "code",
      "source": [
        "hmm = 'Does this work?\"\n",
        "print(hmm)"
      ],
      "metadata": {
        "id": "a1M5eK5JT2ok"
      },
      "id": "a1M5eK5JT2ok",
      "execution_count": null,
      "outputs": []
    },
    {
      "cell_type": "markdown",
      "source": [
        "Oops, we've encountered an error! We will also see a similar message if we forget one of the quotes entirely. So, always enclose a string with the same type of quotation mark on each end."
      ],
      "metadata": {
        "id": "-_Mx2RB5VH2Q"
      },
      "id": "-_Mx2RB5VH2Q"
    },
    {
      "cell_type": "markdown",
      "source": [
        "What if we want to include quotation marks as part of our string? Let's test out the following lines of code:"
      ],
      "metadata": {
        "id": "b3LdmlRdV9ym"
      },
      "id": "b3LdmlRdV9ym"
    },
    {
      "cell_type": "code",
      "source": [
        "test = \"My father once said, \"You can never have too many quotation marks!\"\"\n",
        "print(test)"
      ],
      "metadata": {
        "id": "cVKgAu7WWmEo"
      },
      "id": "cVKgAu7WWmEo",
      "execution_count": null,
      "outputs": []
    },
    {
      "cell_type": "markdown",
      "source": [
        "The problem above is that Python thinks our string ends after the second double quotation mark ( \" ). To fix this, we can either alternate the type of quotation mark we use, or use a backward slash ( \\ ) right before a quotation mark to tell Python we want to treat the symbol as part of the string. For example, both of the below would be valid string variable:"
      ],
      "metadata": {
        "id": "BZaMU8ABW9LQ"
      },
      "id": "BZaMU8ABW9LQ"
    },
    {
      "cell_type": "code",
      "source": [
        "new_test_1 = 'My father once said, \"You can never have too many quotation marks!\"'\n",
        "new_test_2 = \"My father once said, \\\"You can never have too many quotation marks!\\\"\"\n",
        "print(new_test_1)\n",
        "print(new_test_2)"
      ],
      "metadata": {
        "id": "1FHjAtsxYOxC"
      },
      "id": "1FHjAtsxYOxC",
      "execution_count": null,
      "outputs": []
    },
    {
      "cell_type": "markdown",
      "source": [
        "We should also keep these rules in mind when we use contractions in our strings. How would you print out the following sentence?\n",
        "\n",
        "Jimmy exclaimed, \"I can't believe you're a thief! That's illegal!\""
      ],
      "metadata": {
        "id": "Sl-1qoTKZKOP"
      },
      "id": "Sl-1qoTKZKOP"
    },
    {
      "cell_type": "code",
      "source": [
        "# write your code below\n"
      ],
      "metadata": {
        "id": "pADN7NIue6ig"
      },
      "id": "pADN7NIue6ig",
      "execution_count": null,
      "outputs": []
    },
    {
      "cell_type": "markdown",
      "source": [
        "### Operations on Strings\n",
        "We saw what happens when we add or multiply numbers. Can we also add and multiply strings? What if we wanted to only access a part of a string?"
      ],
      "metadata": {
        "id": "rl5QZaB1ZbtR"
      },
      "id": "rl5QZaB1ZbtR"
    },
    {
      "cell_type": "markdown",
      "source": [
        "Addition between strings works just how you'd expect it to: when you add multiple strings together, the result is all the strings combined into one longer string:"
      ],
      "metadata": {
        "id": "gfXB8EDTagMu"
      },
      "id": "gfXB8EDTagMu"
    },
    {
      "cell_type": "code",
      "source": [
        "intro = 'My name is'\n",
        "first = 'Bob'\n",
        "last = 'Bobbert'\n",
        "print(intro + ' ' + first + ' ' + last + '.') # don't forget the spaces in between strings!"
      ],
      "metadata": {
        "id": "Bb6tY0wTa2QL"
      },
      "id": "Bb6tY0wTa2QL",
      "execution_count": null,
      "outputs": []
    },
    {
      "cell_type": "markdown",
      "source": [
        "Reusing the 'first' and 'last' variables, print out your own name below:"
      ],
      "metadata": {
        "id": "u_5I56utdauK"
      },
      "id": "u_5I56utdauK"
    },
    {
      "cell_type": "code",
      "source": [
        "# write your code below\n"
      ],
      "metadata": {
        "id": "16wsYk0bdk4Z"
      },
      "id": "16wsYk0bdk4Z",
      "execution_count": null,
      "outputs": []
    },
    {
      "cell_type": "markdown",
      "source": [
        "Multiplication of strings seems like a weird concept, but let's see how it works!"
      ],
      "metadata": {
        "id": "BuFG_LkAdpvr"
      },
      "id": "BuFG_LkAdpvr"
    },
    {
      "cell_type": "code",
      "source": [
        "chuckle = 'ha'\n",
        "print(chuckle*5)"
      ],
      "metadata": {
        "id": "_6_Cle0cf1PC"
      },
      "id": "_6_Cle0cf1PC",
      "execution_count": null,
      "outputs": []
    },
    {
      "cell_type": "markdown",
      "source": [
        "Just like with numbers, we can form an expression with strings incorporating both addition and multiplication:"
      ],
      "metadata": {
        "id": "Cm9qBsbngJL6"
      },
      "id": "Cm9qBsbngJL6"
    },
    {
      "cell_type": "code",
      "source": [
        "print('Do you want to see something fun?' + '\\n' + 'I\\'m so annoying! ' * 100)"
      ],
      "metadata": {
        "id": "cFBW492cgP9N"
      },
      "id": "cFBW492cgP9N",
      "execution_count": null,
      "outputs": []
    },
    {
      "cell_type": "markdown",
      "id": "95e20ced-ec7c-404f-ac1a-5192c6559252",
      "metadata": {
        "id": "95e20ced-ec7c-404f-ac1a-5192c6559252"
      },
      "source": [
        "We can also extract individual characters from a string. This is called indexing. We can index a string by placing a number inside square brackets ( [ ] ), as shown below:"
      ]
    },
    {
      "cell_type": "code",
      "source": [
        "alphabet = 'ABCD'\n",
        "print(alphabet[1])"
      ],
      "metadata": {
        "id": "3tcikAmXg-0J"
      },
      "id": "3tcikAmXg-0J",
      "execution_count": null,
      "outputs": []
    },
    {
      "cell_type": "markdown",
      "source": [
        "The above statement tells Python to print out the 1-th letter of the string 'ABCD'. But why does this print out 'B' and not 'A'? This is because Python is 0-indexed, which means that the index of the first character in a string is always 0. Therefore, if we wanted to print 'A', we would run the following command:"
      ],
      "metadata": {
        "id": "S2JvgdT-hHeT"
      },
      "id": "S2JvgdT-hHeT"
    },
    {
      "cell_type": "code",
      "source": [
        "print(alphabet[0])"
      ],
      "metadata": {
        "id": "2Dq6Lpilht-N"
      },
      "id": "2Dq6Lpilht-N",
      "execution_count": null,
      "outputs": []
    },
    {
      "cell_type": "markdown",
      "source": [
        "What happens when we try to index a string beyond its last index? In the example above, alphabet's indices range from 0 to 3. Let's try to access the 4-th index:"
      ],
      "metadata": {
        "id": "q261zqdRloPy"
      },
      "id": "q261zqdRloPy"
    },
    {
      "cell_type": "code",
      "source": [
        "print(alphabet[4])"
      ],
      "metadata": {
        "id": "OT_pvaJpmGmu"
      },
      "id": "OT_pvaJpmGmu",
      "execution_count": null,
      "outputs": []
    },
    {
      "cell_type": "markdown",
      "source": [
        "Another error! When indexing strings, we should always make sure that the index we're accessing isn't out of bounds for the string."
      ],
      "metadata": {
        "id": "ZEwJCKylmKFy"
      },
      "id": "ZEwJCKylmKFy"
    },
    {
      "cell_type": "markdown",
      "source": [
        "What if we want to extract more than one character from a string? Then we can do what's called slicing:"
      ],
      "metadata": {
        "id": "f6tJHBC-h3Da"
      },
      "id": "f6tJHBC-h3Da"
    },
    {
      "cell_type": "code",
      "source": [
        "fan = 'Harry Styles is a great singer!'\n",
        "print(fan[4:9])"
      ],
      "metadata": {
        "id": "sa0KE5FanUnf"
      },
      "id": "sa0KE5FanUnf",
      "execution_count": null,
      "outputs": []
    },
    {
      "cell_type": "markdown",
      "source": [
        "When we slice a string, we put two numbers inside square brackets, separated by a colon ( : ). The first number is the start index, and the second number is the end index. Note that the slice includes the start index but excludes the end index. Play around with the following string until you get a hang of slicing:"
      ],
      "metadata": {
        "id": "Ek5xLka8nmgW"
      },
      "id": "Ek5xLka8nmgW"
    },
    {
      "cell_type": "code",
      "source": [
        "# change the values of i and j and see the output\n",
        "i = 0   # start index\n",
        "j = 10  # end index\n",
        "digits = '0123456789'\n",
        "print(digits[i:j])"
      ],
      "metadata": {
        "id": "7C8J4UHWoHkl"
      },
      "id": "7C8J4UHWoHkl",
      "execution_count": null,
      "outputs": []
    },
    {
      "cell_type": "markdown",
      "source": [
        "When we are indexing or slicing string, it is useful to know the length of the string. To do this, we can pass the string into the len command:"
      ],
      "metadata": {
        "id": "EzxIW4mPov3v"
      },
      "id": "EzxIW4mPov3v"
    },
    {
      "cell_type": "code",
      "execution_count": null,
      "id": "81f56637-9c32-49bf-9a39-d96ad79f2cbc",
      "metadata": {
        "id": "81f56637-9c32-49bf-9a39-d96ad79f2cbc"
      },
      "outputs": [],
      "source": [
        "empty = ''\n",
        "fruit = 'apple'\n",
        "print(len(empty))\n",
        "print(len(fruit))\n",
        "print(len('How long am I?'))"
      ]
    },
    {
      "cell_type": "markdown",
      "source": [
        "Using the len command, write two lines of code: one to print out the last line of the below string variable and another to print out the first half of the same string variable:"
      ],
      "metadata": {
        "id": "3NUYDJfGrO_k"
      },
      "id": "3NUYDJfGrO_k"
    },
    {
      "cell_type": "code",
      "source": [
        "guinea_pig = 'Don\\'t run experiments on me please!'\n",
        "print() # print the last character of guinea_pig\n",
        "print() # print the first half of guinea_pig"
      ],
      "metadata": {
        "id": "XmsvBvVjrU_c"
      },
      "id": "XmsvBvVjrU_c",
      "execution_count": null,
      "outputs": []
    },
    {
      "cell_type": "markdown",
      "source": [
        "### Lists\n",
        "\n",
        "All this coding has made me hungry! It's time for me to eat my favorite sandwich: two slices of white bread filled with avocado, peanut butter, ketchup and dates. Let's store these ingredients in a shopping list:"
      ],
      "metadata": {
        "id": "YBwCyElPpiCW"
      },
      "id": "YBwCyElPpiCW"
    },
    {
      "cell_type": "code",
      "source": [
        "shopping = 'white bread, avocado, peanut butter, ketchup and dates'"
      ],
      "metadata": {
        "id": "yuPnxhrMsb5E"
      },
      "id": "yuPnxhrMsb5E",
      "execution_count": 1,
      "outputs": []
    },
    {
      "cell_type": "markdown",
      "source": [
        "Now let's say I want to find out how many items are in my shopping list:"
      ],
      "metadata": {
        "id": "8kEXXzgwsnu_"
      },
      "id": "8kEXXzgwsnu_"
    },
    {
      "cell_type": "code",
      "source": [
        "print(len(shopping))"
      ],
      "metadata": {
        "id": "wG5QlB_Ys68h"
      },
      "id": "wG5QlB_Ys68h",
      "execution_count": null,
      "outputs": []
    },
    {
      "cell_type": "markdown",
      "source": [
        "Hey, I wanted to know the number of items in my shopping list, not the number of characters! Also, what if I wanted to extract a certain item from my shopping list? It would be annoying to keep counting out the characters to figure out how I wanted to slice the string!"
      ],
      "metadata": {
        "id": "aF6YiDUTs8-N"
      },
      "id": "aF6YiDUTs8-N"
    },
    {
      "cell_type": "markdown",
      "source": [
        "This is where the 'list' data type is useful. What is a list? Let's see below:"
      ],
      "metadata": {
        "id": "pKLH4gLptWs6"
      },
      "id": "pKLH4gLptWs6"
    },
    {
      "cell_type": "code",
      "source": [
        "shopping = ['white bread', 'avocado', 'peanut butter', 'ketchup', 'dates']\n",
        "print(shopping)"
      ],
      "metadata": {
        "id": "8llemPy7te_r"
      },
      "id": "8llemPy7te_r",
      "execution_count": null,
      "outputs": []
    },
    {
      "cell_type": "markdown",
      "source": [
        "A list is an ordered collection of items, and it is created by listing the items within square brackets, with each item separated by a comma. Just like with strings, we can index and slice lists. Let's see what we can do with our new shopping list:"
      ],
      "metadata": {
        "id": "SSG5MKlpt129"
      },
      "id": "SSG5MKlpt129"
    },
    {
      "cell_type": "code",
      "source": [
        "print(len(shopping))\n",
        "print(shopping[0])\n",
        "print(shopping[2:5])"
      ],
      "metadata": {
        "id": "KJW-TUQQu1pt"
      },
      "id": "KJW-TUQQu1pt",
      "execution_count": null,
      "outputs": []
    },
    {
      "cell_type": "markdown",
      "source": [
        "Lists can hold more than just string types. They can also store ints, floats, and even other lists!"
      ],
      "metadata": {
        "id": "QAJ08TXizUyo"
      },
      "id": "QAJ08TXizUyo"
    },
    {
      "cell_type": "code",
      "source": [
        "primes = [2, 3, 5]\n",
        "weirdos = [\"Euclid\", \"Euler\", \"Gauss\"]\n",
        "weird_numbers = [3.14, 2.71, primes]\n",
        "\n",
        "print(primes)\n",
        "print(weirdos)\n",
        "print(weird_numbers)"
      ],
      "metadata": {
        "id": "TeIW_X8o0HB4"
      },
      "id": "TeIW_X8o0HB4",
      "execution_count": null,
      "outputs": []
    },
    {
      "cell_type": "markdown",
      "source": [
        "As with strings and numbers, we can use \"addition\" and \"multiplication\" on lists too. "
      ],
      "metadata": {
        "id": "08ara4EJ01zN"
      },
      "id": "08ara4EJ01zN"
    },
    {
      "cell_type": "code",
      "source": [
        "print(primes + weirdos)\n",
        "print(weird_numbers * 3)"
      ],
      "metadata": {
        "colab": {
          "base_uri": "https://localhost:8080/"
        },
        "id": "vKg2WxIN00GD",
        "outputId": "31d1f5fc-78fb-4b43-f64e-3a7acf31b03d"
      },
      "id": "vKg2WxIN00GD",
      "execution_count": 9,
      "outputs": [
        {
          "output_type": "stream",
          "name": "stdout",
          "text": [
            "[2, 3, 5, 'Euclid', 'Euler', 'Gauss']\n",
            "[3.14, 2.71, [2, 3, 5], 3.14, 2.71, [2, 3, 5], 3.14, 2.71, [2, 3, 5]]\n"
          ]
        }
      ]
    },
    {
      "cell_type": "markdown",
      "source": [
        "What happens if we try to multiply two lists together? Does the same thing happen when you multiply two strings?"
      ],
      "metadata": {
        "id": "hniM1rrR1lzI"
      },
      "id": "hniM1rrR1lzI"
    },
    {
      "cell_type": "code",
      "source": [
        "# your code here\n"
      ],
      "metadata": {
        "id": "iUoG4X6b1FAp"
      },
      "id": "iUoG4X6b1FAp",
      "execution_count": null,
      "outputs": []
    },
    {
      "cell_type": "markdown",
      "source": [
        "You might notice some similarities between strings and lists. Both types share a sequential structure. They both support indexing, slicing, and the same arithmetic operations. This isn't merely a coincidence. \n",
        "\n",
        "It turns out that both strings and lists can be \"iterated\" on. We'll study what this means in more detail in the following classes. For now, it's useful to remember that both strings and lists are classified as \"iterables\" in Python."
      ],
      "metadata": {
        "id": "3lC-Z_zZ5cdx"
      },
      "id": "3lC-Z_zZ5cdx"
    }
  ],
  "metadata": {
    "kernelspec": {
      "display_name": "Python 3 (ipykernel)",
      "language": "python",
      "name": "python3"
    },
    "language_info": {
      "codemirror_mode": {
        "name": "ipython",
        "version": 3
      },
      "file_extension": ".py",
      "mimetype": "text/x-python",
      "name": "python",
      "nbconvert_exporter": "python",
      "pygments_lexer": "ipython3",
      "version": "3.9.7"
    },
    "colab": {
      "provenance": []
    }
  },
  "nbformat": 4,
  "nbformat_minor": 5
}